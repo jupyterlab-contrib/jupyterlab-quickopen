{
 "cells": [
  {
   "cell_type": "markdown",
   "metadata": {},
   "source": [
    "# Tutorial: jupyterlab-quickopen\n",
    "\n",
    "This notebook is a short, hands-on tutorial about using the JupyterLab quick open extension.\n",
    "\n",
    "First, assign a hotkey to the extension so you don't have to click the little magnifying glass in the sidebar every time you want to search.\n",
    "\n",
    "1. Click the *Settings* menu then &rarr; *Advanced Settings Editor*.\n",
    "2. Select *Keyboard Shortcuts* in the dialog that opens.\n",
    "3. Add the following to the JSON in the right panel to assign `Ctrl-Cmd-P` as the hotkey on Mac and `Ctrl-Alt-P` on Windows/Linux.\n",
    "\n",
    "```\n",
    "{\n",
    "  \"shortcuts\": [\n",
    "    {\n",
    "      \"command\": \"quickopen:activate\",\n",
    "      \"keys\": [\n",
    "        \"Accel Ctrl P\"\n",
    "      ],\n",
    "      \"selector\": \"body\",\n",
    "      \"title\": \"Activate Quick Open\",\n",
    "      \"category\": \"Main Area\"\n",
    "    }\n",
    "  ]\n",
    "}\n",
    "```\n",
    "\n",
    "4. Hit the same button in the top-right."
   ]
  },
  {
   "cell_type": "markdown",
   "metadata": {},
   "source": [
    "Now, try to find and open the `LICENSE` file included in this repo. \n",
    "\n",
    "1. Press the hotkey you just assigned and the quick open sidebar panel should appear. \n",
    "2. Type *lic* and the panel should show only those paths in your notebook directory containing the letters \"l\", \"i\", and \"c\", in that order.\n",
    "3. Use the arrow keys to select the `LICENSE` file (it's probably already selected).\n",
    "4. Press *Enter* to open it."
   ]
  },
  {
   "cell_type": "markdown",
   "metadata": {},
   "source": [
    "Run the code below to generate a thousand more files in the notebook tree."
   ]
  },
  {
   "cell_type": "code",
   "execution_count": null,
   "metadata": {},
   "outputs": [],
   "source": [
    "import os\n",
    "import random\n",
    "\n",
    "# Get a thousand words\n",
    "with open('/usr/share/dict/words') as fh:\n",
    "    words = fh.readlines()\n",
    "words = random.choices([w.strip() for w in words if \"'\" not in w], k=1000)\n",
    "\n",
    "# Make filenames from those words\n",
    "os.makedirs('data', exist_ok=True)\n",
    "for w in words:\n",
    "    with open(f'data/{w}.txt', 'w') as fh:\n",
    "        fh.write(w)"
   ]
  },
  {
   "cell_type": "markdown",
   "metadata": {},
   "source": [
    "Use the quick open sidebar to find these five generated files. "
   ]
  },
  {
   "cell_type": "code",
   "execution_count": null,
   "metadata": {},
   "outputs": [],
   "source": [
    "words[:5]"
   ]
  }
 ],
 "metadata": {
  "kernelspec": {
   "display_name": "Python 3 (ipykernel)",
   "language": "python",
   "name": "python3"
  },
  "language_info": {
   "codemirror_mode": {
    "name": "ipython",
    "version": 3
   },
   "file_extension": ".py",
   "mimetype": "text/x-python",
   "name": "python",
   "nbconvert_exporter": "python",
   "pygments_lexer": "ipython3",
   "version": "3.12.5"
  },
  "nteract": {
   "version": "0.10.0"
  }
 },
 "nbformat": 4,
 "nbformat_minor": 4
}
